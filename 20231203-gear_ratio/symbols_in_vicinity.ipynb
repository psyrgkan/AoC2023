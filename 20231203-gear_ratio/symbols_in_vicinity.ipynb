{
 "cells": [
  {
   "cell_type": "markdown",
   "metadata": {},
   "source": [
    "## Problem Description\n",
    "\n",
    "The engineer explains that an engine part seems to be missing from the engine, but nobody can figure out which one. If you can add up all the part numbers in the engine schematic, it should be easy to work out which part is missing.\n",
    "\n",
    "The engine schematic (your puzzle input) consists of a visual representation of the engine. There are lots of numbers and symbols you don't really understand, but apparently any number adjacent to a symbol, even diagonally, is a \"part number\" and should be included in your sum. (Periods (.) do not count as a symbol.)\n",
    "\n",
    "Here is an example engine schematic:\n",
    "\n",
    "467..114..\n",
    "...*......\n",
    "..35..633.\n",
    "......#...\n",
    "617*......\n",
    ".....+.58.\n",
    "..592.....\n",
    "......755.\n",
    "...$.*....\n",
    ".664.598..\n",
    "In this schematic, two numbers are not part numbers because they are not adjacent to a symbol: 114 (top right) and 58 (middle right). Every other number is adjacent to a symbol and so is a part number; their sum is 4361.\n",
    "\n",
    "Of course, the actual engine schematic is much larger. What is the sum of all of the part numbers in the engine schematic?\n",
    "\n"
   ]
  },
  {
   "cell_type": "code",
   "execution_count": 267,
   "metadata": {},
   "outputs": [],
   "source": [
    "import re\n",
    "import numpy as np"
   ]
  },
  {
   "cell_type": "code",
   "execution_count": 1,
   "metadata": {},
   "outputs": [],
   "source": [
    "# Read each row of the input file into a list of strings\n",
    "with open('input1.txt') as f:\n",
    "    content = f.readlines()\n",
    "\n",
    "content = [x.strip() for x in content]\n",
    "# content"
   ]
  },
  {
   "cell_type": "code",
   "execution_count": 269,
   "metadata": {},
   "outputs": [],
   "source": [
    "def account_for_edges(idx: int, loc_min: int, loc_max: int):\n",
    "    return min(max(idx, loc_min), loc_max)\n",
    "\n",
    "def get_peripherals(start_x: int, end_x: int, loc_y: int, X: list[list]) -> list:\n",
    "    # Get the peripheral chars of a number with start_x(inclusive) and end_x(non inclusive) location,\n",
    "    #  and loc_y of X matrix to a tuple list\n",
    "    dirs = [-1, 0, 1]\n",
    "    ys = [account_for_edges(loc_y+dir, 0, len(X)-1) for dir in dirs]\n",
    "    xs = list(range(account_for_edges(start_x+dirs[0], 0, len(X[0])), account_for_edges(end_x+dirs[-1], 0, len(X[0]))))\n",
    "    combos = set([(y, x) for y in ys for x in xs])\n",
    "\n",
    "    # Account for xs, ys pointing to entry\n",
    "    number_tuples = set([(loc_y, x) for x in range(start_x, end_x)])\n",
    "    chars = [X[y][x] for y,x in list(combos - number_tuples)]\n",
    "    return chars"
   ]
  },
  {
   "cell_type": "markdown",
   "metadata": {},
   "source": [
    "- Save input in nxm grid\n",
    "\n",
    "- Get all numbers and check peripherals to see if there is symbol\n",
    "- If there is then add to sum\n",
    "\n",
    "NOTES:\n",
    "1. No wrapping allowed, check for out of bounds conditions\n",
    "2. Careful how you check for symbols to exclude '\\.'\n"
   ]
  },
  {
   "cell_type": "code",
   "execution_count": 272,
   "metadata": {},
   "outputs": [],
   "source": [
    "def find_numbers(X: list[list]):\n",
    "    nums = []\n",
    "    for y, line in enumerate(X):\n",
    "        number_matches = re.finditer(r'(\\d+)', line)\n",
    "        for num in number_matches:\n",
    "            nums.append((int(num.group()), (num.span(), y)))\n",
    "\n",
    "    return nums"
   ]
  },
  {
   "cell_type": "code",
   "execution_count": 275,
   "metadata": {},
   "outputs": [],
   "source": [
    "sum = 0\n",
    "for num in find_numbers(content):\n",
    "    value = num[0]\n",
    "    xs, y = num[1]\n",
    "    chars = get_peripherals(*xs, y, content)\n",
    "\n",
    "    # Find way to check for symbols\n",
    "    for char in set(chars):\n",
    "        pattern = re.compile(r'(\\w|\\.)')\n",
    "        found = re.match(pattern, char)\n",
    "        \n",
    "        if found is None:\n",
    "            sum += value\n"
   ]
  },
  {
   "cell_type": "code",
   "execution_count": 276,
   "metadata": {},
   "outputs": [
    {
     "data": {
      "text/plain": [
       "540131"
      ]
     },
     "execution_count": 276,
     "metadata": {},
     "output_type": "execute_result"
    }
   ],
   "source": [
    "sum"
   ]
  }
 ],
 "metadata": {
  "kernelspec": {
   "display_name": "base",
   "language": "python",
   "name": "python3"
  },
  "language_info": {
   "codemirror_mode": {
    "name": "ipython",
    "version": 3
   },
   "file_extension": ".py",
   "mimetype": "text/x-python",
   "name": "python",
   "nbconvert_exporter": "python",
   "pygments_lexer": "ipython3",
   "version": "3.10.12"
  }
 },
 "nbformat": 4,
 "nbformat_minor": 2
}
