{
 "cells": [
  {
   "cell_type": "markdown",
   "metadata": {},
   "source": [
    "## Problem Description\n",
    "\n",
    "The missing part wasn't the only issue - one of the gears in the engine is wrong. A gear is any * symbol that is adjacent to exactly two part numbers. Its gear ratio is the result of multiplying those two numbers together.\n",
    "\n",
    "This time, you need to find the gear ratio of every gear and add them all up so that the engineer can figure out which gear needs to be replaced.\n",
    "\n",
    "Consider the same engine schematic again:\n",
    "\n",
    "467..114..\n",
    "...*......\n",
    "..35..633.\n",
    "......#...\n",
    "617*......\n",
    ".....+.58.\n",
    "..592.....\n",
    "......755.\n",
    "...$.*....\n",
    ".664.598..\n",
    "In this schematic, there are two gears. The first is in the top left; it has part numbers 467 and 35, so its gear ratio is 16345. The second gear is in the lower right; its gear ratio is 451490. (The * adjacent to 617 is not a gear because it is only adjacent to one part number.) Adding up all of the gear ratios produces 467835.\n",
    "\n",
    "What is the sum of all of the gear ratios in your engine schematic?"
   ]
  },
  {
   "cell_type": "code",
   "execution_count": 2,
   "metadata": {},
   "outputs": [],
   "source": [
    "import re\n",
    "import numpy as np"
   ]
  },
  {
   "cell_type": "code",
   "execution_count": 1,
   "metadata": {},
   "outputs": [],
   "source": [
    "# Read each row of the input file into a list of strings\n",
    "with open('input1.txt') as f:\n",
    "    content = f.readlines()\n",
    "\n",
    "content = [x.strip() for x in content]\n",
    "# content"
   ]
  },
  {
   "cell_type": "code",
   "execution_count": 4,
   "metadata": {},
   "outputs": [],
   "source": [
    "def account_for_edges(idx: int, loc_min: int, loc_max: int):\n",
    "    return min(max(idx, loc_min), loc_max)\n",
    "\n",
    "def get_peripherals(start_x: int, end_x: int, loc_y: int, X: list[list]) -> list:\n",
    "    # Get the peripheral chars of a number with start_x(inclusive) and end_x(non inclusive) location,\n",
    "    # and loc_y of X matrix to a tuple list\n",
    "    dirs = [-1, 0, 1]\n",
    "    ys = [account_for_edges(loc_y+dir, 0, len(X)-1) for dir in dirs]\n",
    "    xs = list(range(account_for_edges(start_x+dirs[0], 0, len(X[0])), account_for_edges(end_x+dirs[-1], 0, len(X[0]))))\n",
    "    combos = set([(y, x) for y in ys for x in xs])\n",
    "\n",
    "    # Account for xs, ys pointing to entry\n",
    "    number_tuples = set([(loc_y, x) for x in range(start_x, end_x)])\n",
    "    chars_coor = [(X[y][x], (y,x)) for y,x in list(combos - number_tuples)]\n",
    "    return chars_coor"
   ]
  },
  {
   "cell_type": "code",
   "execution_count": 6,
   "metadata": {},
   "outputs": [],
   "source": [
    "def find_gears(X: list[list]):\n",
    "    gears = []\n",
    "    for y, line in enumerate(X):\n",
    "        gear_matches = re.finditer(r'(\\*)', line)\n",
    "        for gear in gear_matches:\n",
    "            gears.append((gear.group(), (gear.span(), y)))\n",
    "\n",
    "    return gears"
   ]
  },
  {
   "cell_type": "code",
   "execution_count": 2,
   "metadata": {},
   "outputs": [],
   "source": [
    "# find_gears(content)"
   ]
  },
  {
   "cell_type": "code",
   "execution_count": 8,
   "metadata": {},
   "outputs": [
    {
     "data": {
      "text/plain": [
       "86879020"
      ]
     },
     "execution_count": 8,
     "metadata": {},
     "output_type": "execute_result"
    }
   ],
   "source": [
    "sum = 0\n",
    "for gear in find_gears(content):\n",
    "    value = gear[0]\n",
    "    xs, y = gear[1]\n",
    "    chars = get_peripherals(*xs, y, content)\n",
    "\n",
    "    # Check for numbers\n",
    "    numbers = []\n",
    "    # Keep track of visited numbers in line by coords of first digit\n",
    "    idc = []\n",
    "    for char in chars:\n",
    "\n",
    "        value = char[0]\n",
    "\n",
    "        # If we have a digit\n",
    "        if re.search(r'\\d', value) is not None:\n",
    "\n",
    "            # Get the coordinates of the digit\n",
    "            y, x = char[1]\n",
    "\n",
    "            # Look for possible numbers in that line\n",
    "            possible_matches = re.finditer(r'\\d+', content[y])\n",
    "\n",
    "            # For each of those numbers\n",
    "            for match in possible_matches:\n",
    "\n",
    "                # If x is in the range of the span and number not visited\n",
    "                if x in range(*match.span()) and (y, match.span()[0]) not in idc:\n",
    "                    numbers.append(int(match.group()))\n",
    "                    idc.append((y, match.span()[0]))\n",
    "                    \n",
    "    if len(numbers) == 2:\n",
    "        sum += numbers[0]*numbers[1]\n",
    "\n",
    "sum"
   ]
  }
 ],
 "metadata": {
  "kernelspec": {
   "display_name": "base",
   "language": "python",
   "name": "python3"
  },
  "language_info": {
   "codemirror_mode": {
    "name": "ipython",
    "version": 3
   },
   "file_extension": ".py",
   "mimetype": "text/x-python",
   "name": "python",
   "nbconvert_exporter": "python",
   "pygments_lexer": "ipython3",
   "version": "3.10.12"
  }
 },
 "nbformat": 4,
 "nbformat_minor": 2
}
